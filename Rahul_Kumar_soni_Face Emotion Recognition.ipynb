{
 "cells": [
  {
   "cell_type": "markdown",
   "id": "5f561ae0",
   "metadata": {},
   "source": [
    "# Face Emotion Recognition"
   ]
  },
  {
   "cell_type": "markdown",
   "id": "ff82626c",
   "metadata": {},
   "source": [
    "### Project Introduction\n",
    "The Indian education landscape has been undergoing rapid changes for the past 10 years owing to the advancement of web-based learning services, specifically, eLearning platforms. Global E-learning is estimated to witness an 8X over the next 5 years to reach USD 2B in 2021. India is expected to grow with a CAGR of 44% crossing the 10M users mark in 2021. Although the market is growing on a rapid scale, there are major challenges associated with digital learning when compared with brick and mortar classrooms. One of many challenges is how to ensure quality learning for students. Digital platforms might overpower physical classrooms in terms of content quality but when it comes to understanding whether students are able to grasp the content in a live class scenario is yet an open-end challenge. In a physical classroom during a lecturing teacher can see the faces and assess the emotion of the class and tune their lecture accordingly, whether he is going fast or slow. He can identify students who need special attention. Digital classrooms are conducted via video telephony software program (ex- Zoom) where it’s not possible for medium scale class (25-50) to see all students and access the mood. Because of this drawback, students are not focusing on content due to a lack of surveillance. While digital platforms have limitations in terms of physical surveillance but it comes with the power of data and machines which can work for you. It provides data in the form of video, audio, and texts which can be analyzed using deep learning algorithms. Deep learning backed system not only solves the surveillance issue, but it also removes the human bias from the system, and all information is no longer in the teacher’s brain rather translated in numbers that can be analyzed and tracked.\n",
    "\n",
    "We will solve the above-mentioned challenge by applying deep learning algorithms to live video data.The solution to this problem is by recognizing facial emotions."
   ]
  },
  {
   "cell_type": "markdown",
   "id": "2f682e4b",
   "metadata": {},
   "source": [
    "### Importing Libraries\n",
    "Importing the required python libraries like numpy, seaborn, matplotlib, tensorflow"
   ]
  },
  {
   "cell_type": "code",
   "execution_count": 2,
   "id": "a5868192",
   "metadata": {},
   "outputs": [],
   "source": [
    "# Importing all the required Libraries\n",
    "\n",
    "import tensorflow as tf \n",
    "from tensorflow import keras\n",
    "from tensorflow.keras.models import Sequential                                                            \n",
    "from tensorflow.keras import layers\n",
    "from tensorflow.keras.layers import Conv2D,MaxPooling2D, Dense, Dropout, Flatten, BatchNormalization,Activation\n",
    "from tensorflow.keras.preprocessing.image import ImageDataGenerator\n",
    "from tensorflow.keras.optimizers import Adam\n",
    "import matplotlib.pyplot as plt\n",
    "from matplotlib.image import imread\n",
    "from tensorflow.keras.callbacks import EarlyStopping, ModelCheckpoint, ReduceLROnPlateau\n",
    "from tensorflow.keras.models import load_model\n",
    "from tensorflow.keras import Model\n",
    "from sklearn.metrics import confusion_matrix, classification_report\n",
    "from sklearn.metrics import accuracy_score\n",
    "from sklearn.model_selection import train_test_split\n",
    "from tensorflow.keras.utils import to_categorical\n",
    "import numpy as np \n",
    "import cv2\n",
    "import os\n",
    "\n",
    "# Removing all those annoying Warnings\n",
    "\n",
    "import warnings                                                                                \n",
    "warnings.filterwarnings('ignore')\n",
    "warnings.simplefilter('ignore')"
   ]
  },
  {
   "cell_type": "code",
   "execution_count": 3,
   "id": "78527c71",
   "metadata": {},
   "outputs": [],
   "source": [
    "#dowload the data and add the path\n",
    "my_data_dir = 'C:\\\\Users\\\\Ultimatrix\\\\Downloads\\\\face_recog\\\\data'"
   ]
  },
  {
   "cell_type": "code",
   "execution_count": 4,
   "id": "0a09a6b7",
   "metadata": {},
   "outputs": [
    {
     "data": {
      "text/plain": [
       "['test', 'train']"
      ]
     },
     "execution_count": 4,
     "metadata": {},
     "output_type": "execute_result"
    }
   ],
   "source": [
    "# CONFIRM THAT THIS REPORTS BACK 'test', and 'train'\n",
    "os.listdir(my_data_dir) "
   ]
  },
  {
   "cell_type": "code",
   "execution_count": 5,
   "id": "3ea6a157",
   "metadata": {},
   "outputs": [],
   "source": [
    "#setting up test and train path\n",
    "test_path = my_data_dir+'\\\\test\\\\'\n",
    "train_path = my_data_dir+'\\\\train\\\\'"
   ]
  },
  {
   "cell_type": "code",
   "execution_count": 6,
   "id": "f938106e",
   "metadata": {},
   "outputs": [
    {
     "data": {
      "text/plain": [
       "['angry', 'disgust', 'fear', 'happy', 'neutral', 'sad', 'surprise']"
      ]
     },
     "execution_count": 6,
     "metadata": {},
     "output_type": "execute_result"
    }
   ],
   "source": [
    "#list the directory of test path\n",
    "os.listdir(test_path)"
   ]
  },
  {
   "cell_type": "code",
   "execution_count": 7,
   "id": "630669ab",
   "metadata": {},
   "outputs": [
    {
     "data": {
      "text/plain": [
       "['angry', 'disgust', 'fear', 'happy', 'neutral', 'sad', 'surprise']"
      ]
     },
     "execution_count": 7,
     "metadata": {},
     "output_type": "execute_result"
    }
   ],
   "source": [
    "#list the directory of trian path\n",
    "os.listdir(train_path)"
   ]
  },
  {
   "cell_type": "code",
   "execution_count": 8,
   "id": "57e949b4",
   "metadata": {},
   "outputs": [
    {
     "data": {
      "text/plain": [
       "'Training_10118481.jpg'"
      ]
     },
     "execution_count": 8,
     "metadata": {},
     "output_type": "execute_result"
    }
   ],
   "source": [
    "#getting the first image of angry folder\n",
    "os.listdir(train_path+'\\\\angry')[0]"
   ]
  },
  {
   "cell_type": "code",
   "execution_count": 9,
   "id": "9d9bc36e",
   "metadata": {},
   "outputs": [],
   "source": [
    "img =train_path+'\\\\angry'+'\\\\Training_10118481.jpg'"
   ]
  },
  {
   "cell_type": "code",
   "execution_count": 10,
   "id": "c5976f2e",
   "metadata": {},
   "outputs": [
    {
     "data": {
      "text/plain": [
       "<matplotlib.image.AxesImage at 0x28a3ac8ddc0>"
      ]
     },
     "execution_count": 10,
     "metadata": {},
     "output_type": "execute_result"
    },
    {
     "data": {
      "image/png": "[encoded data removed]",
      "text/plain": [
       "<Figure size 432x288 with 1 Axes>"
      ]
     },
     "metadata": {
      "needs_background": "light"
     },
     "output_type": "display_data"
    }
   ],
   "source": [
    "#showing the first image of angry folder\n",
    "plt.imshow(imread(img))"
   ]
  },
  {
   "cell_type": "markdown",
   "id": "4b4086ef",
   "metadata": {},
   "source": [
    "## Setup the data generators\n",
    "Now we will generate training and testing (validation) batches.\n",
    "\n",
    "### Image Manipulation\n",
    "\n",
    "Its usually a good idea to manipulate the images with scaling so the model becomes more robust to different images that our data set doesn't have. We can use the **ImageDataGenerator** to do this automatically for us"
   ]
  },
  {
   "cell_type": "code",
   "execution_count": 11,
   "id": "a99cf2e5",
   "metadata": {},
   "outputs": [],
   "source": [
    "# Creating Image generators, for all train, validation, and test set\n",
    "training_gen=ImageDataGenerator(rescale=1./255)\n",
    "testing_gen=ImageDataGenerator(rescale=1./255)"
   ]
  },
  {
   "cell_type": "code",
   "execution_count": 13,
   "id": "615ffa8a",
   "metadata": {},
   "outputs": [
    {
     "name": "stdout",
     "output_type": "stream",
     "text": [
      "Found 28709 images belonging to 7 classes.\n",
      "Found 7178 images belonging to 7 classes.\n"
     ]
    }
   ],
   "source": [
    "# Creating  Training Dataset\n",
    "\n",
    "train_gen=training_gen.flow_from_directory(train_path,                \n",
    "                                           target_size=(48,48),\n",
    "                                           batch_size=32,\n",
    "                                           color_mode='grayscale',\n",
    "                                           class_mode='categorical')\n",
    "\n",
    "# Creating Test Set\n",
    "\n",
    "test_gen=testing_gen.flow_from_directory(test_path,                                       \n",
    "                                           target_size=(48,48),  \n",
    "                                           batch_size=32,\n",
    "                                           color_mode='grayscale',\n",
    "                                           class_mode='categorical',\n",
    "                                           shuffle= False)"
   ]
  },
  {
   "cell_type": "markdown",
   "id": "00238621",
   "metadata": {},
   "source": [
    "- Deep learning models are trained by being fed with batches of data. Keras has a very useful class to automatically feed data from a directory: ImageDataGenerator.\n",
    "As of now we have imported libraries, got dataset, and created train and test images."
   ]
  },
  {
   "cell_type": "code",
   "execution_count": 15,
   "id": "54b3f029",
   "metadata": {},
   "outputs": [
    {
     "name": "stdout",
     "output_type": "stream",
     "text": [
      "{'angry': 0, 'disgust': 1, 'fear': 2, 'happy': 3, 'neutral': 4, 'sad': 5, 'surprise': 6}\n"
     ]
    }
   ],
   "source": [
    "#printing the class indicies og train_gen\n",
    "print(train_gen.class_indices)"
   ]
  },
  {
   "cell_type": "code",
   "execution_count": null,
   "id": "590485ec",
   "metadata": {},
   "outputs": [],
   "source": []
  }
 ],
 "metadata": {
  "kernelspec": {
   "display_name": "Python 3",
   "language": "python",
   "name": "python3"
  },
  "language_info": {
   "codemirror_mode": {
    "name": "ipython",
    "version": 3
   },
   "file_extension": ".py",
   "mimetype": "text/x-python",
   "name": "python",
   "nbconvert_exporter": "python",
   "pygments_lexer": "ipython3",
   "version": "3.8.8"
  }
 },
 "nbformat": 4,
 "nbformat_minor": 5
}
